{
 "cells": [
  {
   "cell_type": "code",
   "execution_count": 1,
   "metadata": {},
   "outputs": [
    {
     "name": "stdout",
     "output_type": "stream",
     "text": [
      "pygame 2.5.0 (SDL 2.28.0, Python 3.11.4)\n",
      "Hello from the pygame community. https://www.pygame.org/contribute.html\n"
     ]
    }
   ],
   "source": [
    "import pygame\n",
    "import numpy as np\n",
    "import pandas as pd\n",
    "import matplotlib.pyplot as plt\n",
    "import tensorflow as tf\n",
    "import random\n",
    "\n",
    "from tensorflow.keras.models import Sequential\n",
    "from tensorflow.keras.layers import Dense, Conv2D, MaxPool2D, Flatten, Activation\n",
    "\n",
    "from environment import *\n",
    "from sensor import *\n",
    "from target import *\n"
   ]
  },
  {
   "cell_type": "code",
   "execution_count": null,
   "metadata": {},
   "outputs": [],
   "source": [
    "# if run on colab uncomment the line below\n",
    "# run environment.py"
   ]
  },
  {
   "cell_type": "code",
   "execution_count": 4,
   "metadata": {},
   "outputs": [
    {
     "name": "stdout",
     "output_type": "stream",
     "text": [
      "turning points:  {625, 425, 375, 575}\n",
      "turning points:  {425, 875, 625, 375, 825, 575}\n",
      "turning points:  {425, 1225, 875, 625, 375, 825, 1275, 575}\n",
      "turning points:  {425, 1225, 875, 625, 375, 825, 1275, 575}\n",
      "Total inital sensor energy level:  10000\n",
      "1/1 [==============================] - 0s 96ms/step\n",
      "1/1 [==============================] - 0s 32ms/step\n",
      "1/1 [==============================] - 0s 35ms/step\n",
      "1/1 [==============================] - 0s 30ms/step\n",
      "1/1 [==============================] - 0s 28ms/step\n",
      "1/1 [==============================] - 0s 34ms/step\n",
      "1/1 [==============================] - 0s 35ms/step\n",
      "1/1 [==============================] - 0s 32ms/step\n",
      "1/1 [==============================] - 0s 35ms/step\n",
      "1/1 [==============================] - 0s 33ms/step\n",
      "1/1 [==============================] - 0s 37ms/step\n",
      "1/1 [==============================] - 0s 36ms/step\n",
      "1/1 [==============================] - 0s 38ms/step\n",
      "1/1 [==============================] - 0s 34ms/step\n",
      "1/1 [==============================] - 0s 33ms/step\n",
      "1/1 [==============================] - 0s 33ms/step\n",
      "1/1 [==============================] - 0s 37ms/step\n",
      "1/1 [==============================] - 0s 31ms/step\n",
      "1/1 [==============================] - 0s 32ms/step\n",
      "1/1 [==============================] - 0s 35ms/step\n",
      "1/1 [==============================] - 0s 32ms/step\n",
      "1/1 [==============================] - 0s 33ms/step\n",
      "1/1 [==============================] - 0s 33ms/step\n",
      "1/1 [==============================] - 0s 33ms/step\n",
      "1/1 [==============================] - 0s 34ms/step\n",
      "1/1 [==============================] - 0s 32ms/step\n",
      "1/1 [==============================] - 0s 32ms/step\n",
      "1/1 [==============================] - 0s 32ms/step\n",
      "1/1 [==============================] - 0s 33ms/step\n",
      "1/1 [==============================] - 0s 33ms/step\n",
      "1/1 [==============================] - 0s 32ms/step\n",
      "1/1 [==============================] - 0s 33ms/step\n",
      "1/1 [==============================] - 0s 34ms/step\n",
      "1/1 [==============================] - 0s 34ms/step\n",
      "1/1 [==============================] - 0s 34ms/step\n",
      "1/1 [==============================] - 0s 34ms/step\n",
      "1/1 [==============================] - 0s 34ms/step\n",
      "1/1 [==============================] - 0s 34ms/step\n",
      "1/1 [==============================] - 0s 33ms/step\n",
      "1/1 [==============================] - 0s 37ms/step\n",
      "1/1 [==============================] - 0s 32ms/step\n",
      "1/1 [==============================] - 0s 33ms/step\n",
      "1/1 [==============================] - 0s 32ms/step\n",
      "1/1 [==============================] - 0s 38ms/step\n",
      "1/1 [==============================] - 0s 33ms/step\n",
      "1/1 [==============================] - 0s 34ms/step\n",
      "1/1 [==============================] - 0s 34ms/step\n",
      "1/1 [==============================] - 0s 37ms/step\n",
      "1/1 [==============================] - 0s 35ms/step\n",
      "1/1 [==============================] - 0s 33ms/step\n",
      "1/1 [==============================] - 0s 39ms/step\n",
      "1/1 [==============================] - 0s 34ms/step\n",
      "1/1 [==============================] - 0s 35ms/step\n",
      "1/1 [==============================] - 0s 35ms/step\n",
      "1/1 [==============================] - 0s 41ms/step\n",
      "1/1 [==============================] - 0s 46ms/step\n",
      "1/1 [==============================] - 0s 74ms/step\n",
      "1/1 [==============================] - 0s 67ms/step\n",
      "1/1 [==============================] - 0s 38ms/step\n",
      "1/1 [==============================] - 0s 44ms/step\n",
      "1/1 [==============================] - 0s 39ms/step\n",
      "1/1 [==============================] - 0s 38ms/step\n",
      "1/1 [==============================] - 0s 50ms/step\n",
      "1/1 [==============================] - 0s 83ms/step\n",
      "1/1 [==============================] - 0s 57ms/step\n",
      "1/1 [==============================] - 0s 78ms/step\n",
      "1/1 [==============================] - 0s 78ms/step\n",
      "1/1 [==============================] - 0s 34ms/step\n",
      "1/1 [==============================] - 0s 88ms/step\n",
      "1/1 [==============================] - 0s 86ms/step\n",
      "1/1 [==============================] - 0s 86ms/step\n",
      "1/1 [==============================] - 0s 81ms/step\n",
      "1/1 [==============================] - 0s 90ms/step\n",
      "1/1 [==============================] - 0s 86ms/step\n",
      "1/1 [==============================] - 0s 69ms/step\n",
      "1/1 [==============================] - 0s 68ms/step\n",
      "1/1 [==============================] - 0s 82ms/step\n",
      "1/1 [==============================] - 0s 37ms/step\n",
      "1/1 [==============================] - 0s 38ms/step\n",
      "1/1 [==============================] - 0s 85ms/step\n",
      "1/1 [==============================] - 0s 93ms/step\n",
      "1/1 [==============================] - 0s 73ms/step\n",
      "1/1 [==============================] - 0s 40ms/step\n",
      "1/1 [==============================] - 0s 74ms/step\n",
      "1/1 [==============================] - 0s 45ms/step\n",
      "1/1 [==============================] - 0s 42ms/step\n",
      "1/1 [==============================] - 0s 59ms/step\n",
      "1/1 [==============================] - 0s 77ms/step\n",
      "1/1 [==============================] - 0s 42ms/step\n",
      "1/1 [==============================] - 0s 75ms/step\n",
      "1/1 [==============================] - 0s 33ms/step\n",
      "1/1 [==============================] - 0s 44ms/step\n",
      "1/1 [==============================] - 0s 36ms/step\n",
      "1/1 [==============================] - 0s 51ms/step\n",
      "1/1 [==============================] - 0s 43ms/step\n",
      "1/1 [==============================] - 0s 39ms/step\n",
      "1/1 [==============================] - 0s 53ms/step\n",
      "1/1 [==============================] - 0s 96ms/step\n",
      "1/1 [==============================] - 0s 34ms/step\n",
      "1/1 [==============================] - 0s 36ms/step\n",
      "1/1 [==============================] - 0s 36ms/step\n",
      "1/1 [==============================] - 0s 37ms/step\n",
      "1/1 [==============================] - 0s 33ms/step\n",
      "1/1 [==============================] - 0s 37ms/step\n",
      "1/1 [==============================] - 0s 35ms/step\n",
      "1/1 [==============================] - 0s 36ms/step\n",
      "1/1 [==============================] - 0s 37ms/step\n",
      "1/1 [==============================] - 0s 35ms/step\n",
      "1/1 [==============================] - 0s 39ms/step\n",
      "1/1 [==============================] - 0s 45ms/step\n",
      "1/1 [==============================] - 0s 38ms/step\n",
      "1/1 [==============================] - 0s 35ms/step\n",
      "1/1 [==============================] - 0s 34ms/step\n",
      "1/1 [==============================] - 0s 39ms/step\n",
      "1/1 [==============================] - 0s 41ms/step\n",
      "1/1 [==============================] - 0s 36ms/step\n",
      "1/1 [==============================] - 0s 34ms/step\n",
      "1/1 [==============================] - 0s 38ms/step\n",
      "1/1 [==============================] - 0s 34ms/step\n",
      "1/1 [==============================] - 0s 36ms/step\n",
      "1/1 [==============================] - 0s 36ms/step\n",
      "1/1 [==============================] - 0s 42ms/step\n",
      "1/1 [==============================] - 0s 36ms/step\n",
      "1/1 [==============================] - 0s 80ms/step\n",
      "1/1 [==============================] - 0s 32ms/step\n",
      "1/1 [==============================] - 0s 73ms/step\n",
      "1/1 [==============================] - 0s 41ms/step\n",
      "1/1 [==============================] - 0s 92ms/step\n",
      "1/1 [==============================] - 0s 34ms/step\n",
      "1/1 [==============================] - 0s 35ms/step\n",
      "1/1 [==============================] - 0s 37ms/step\n",
      "1/1 [==============================] - 0s 54ms/step\n",
      "1/1 [==============================] - 0s 37ms/step\n",
      "1/1 [==============================] - 0s 37ms/step\n",
      "1/1 [==============================] - 0s 35ms/step\n",
      "1/1 [==============================] - 0s 35ms/step\n",
      "1/1 [==============================] - 0s 45ms/step\n",
      "1/1 [==============================] - 0s 36ms/step\n",
      "1/1 [==============================] - 0s 32ms/step\n",
      "1/1 [==============================] - 0s 40ms/step\n",
      "1/1 [==============================] - 0s 38ms/step\n",
      "1/1 [==============================] - 0s 38ms/step\n",
      "1/1 [==============================] - 0s 42ms/step\n",
      "1/1 [==============================] - 0s 43ms/step\n",
      "1/1 [==============================] - 0s 32ms/step\n",
      "1/1 [==============================] - 0s 37ms/step\n",
      "1/1 [==============================] - 0s 35ms/step\n",
      "1/1 [==============================] - 0s 34ms/step\n",
      "1/1 [==============================] - 0s 37ms/step\n",
      "1/1 [==============================] - 0s 35ms/step\n",
      "1/1 [==============================] - 0s 34ms/step\n",
      "1/1 [==============================] - 0s 36ms/step\n",
      "1/1 [==============================] - 0s 35ms/step\n",
      "1/1 [==============================] - 0s 37ms/step\n",
      "1/1 [==============================] - 0s 36ms/step\n",
      "1/1 [==============================] - 0s 35ms/step\n",
      "1/1 [==============================] - 0s 32ms/step\n",
      "1/1 [==============================] - 0s 35ms/step\n",
      "1/1 [==============================] - 0s 34ms/step\n",
      "1/1 [==============================] - 0s 38ms/step\n",
      "1/1 [==============================] - 0s 36ms/step\n",
      "1/1 [==============================] - 0s 34ms/step\n",
      "1/1 [==============================] - 0s 36ms/step\n",
      "1/1 [==============================] - 0s 35ms/step\n",
      "1/1 [==============================] - 0s 32ms/step\n",
      "1/1 [==============================] - 0s 40ms/step\n",
      "1/1 [==============================] - 0s 38ms/step\n",
      "1/1 [==============================] - 0s 36ms/step\n",
      "1/1 [==============================] - 0s 33ms/step\n",
      "1/1 [==============================] - 0s 37ms/step\n",
      "1/1 [==============================] - 0s 40ms/step\n",
      "1/1 [==============================] - 0s 33ms/step\n",
      "1/1 [==============================] - 0s 36ms/step\n",
      "Total number of active targets:  27\n",
      "Total length of this episode:  173\n",
      "The unique targets tracked:  []\n",
      "The number of unique targets tracked:  -1\n",
      "The total number of targets generated:  27\n"
     ]
    },
    {
     "data": {
      "text/plain": [
       "(array([], shape=(173, 0), dtype=float64),\n",
       " [9999.9,\n",
       "  9999.8,\n",
       "  9999.699999999999,\n",
       "  9999.599999999999,\n",
       "  9999.499999999998,\n",
       "  9999.399999999998,\n",
       "  9999.299999999997,\n",
       "  9999.199999999997,\n",
       "  9999.099999999997,\n",
       "  9998.999999999996,\n",
       "  9998.899999999996,\n",
       "  9998.799999999996,\n",
       "  9998.699999999995,\n",
       "  9998.599999999995,\n",
       "  9998.499999999995,\n",
       "  9998.399999999994,\n",
       "  9998.299999999994,\n",
       "  9998.199999999993,\n",
       "  9998.099999999993,\n",
       "  9997.999999999993,\n",
       "  9997.899999999992,\n",
       "  9997.799999999992,\n",
       "  9997.699999999992,\n",
       "  9997.599999999991,\n",
       "  9997.49999999999,\n",
       "  9997.39999999999,\n",
       "  9997.29999999999,\n",
       "  9997.19999999999,\n",
       "  9997.09999999999,\n",
       "  9996.999999999989,\n",
       "  9996.899999999989,\n",
       "  9996.799999999988,\n",
       "  9996.699999999988,\n",
       "  9996.599999999988,\n",
       "  9996.499999999987,\n",
       "  9996.399999999987,\n",
       "  9996.299999999987,\n",
       "  9996.199999999986,\n",
       "  9996.099999999986,\n",
       "  9995.999999999985,\n",
       "  9995.899999999985,\n",
       "  9995.799999999985,\n",
       "  9995.699999999984,\n",
       "  9995.599999999984,\n",
       "  9995.499999999984,\n",
       "  9995.399999999983,\n",
       "  9995.299999999983,\n",
       "  9995.199999999983,\n",
       "  9995.099999999982,\n",
       "  9994.999999999982,\n",
       "  9994.899999999981,\n",
       "  9994.799999999981,\n",
       "  9994.69999999998,\n",
       "  9994.59999999998,\n",
       "  9994.49999999998,\n",
       "  9994.39999999998,\n",
       "  9994.29999999998,\n",
       "  9994.199999999979,\n",
       "  9994.099999999979,\n",
       "  9993.999999999978,\n",
       "  9993.899999999978,\n",
       "  9993.799999999977,\n",
       "  9993.699999999977,\n",
       "  9993.599999999977,\n",
       "  9993.499999999976,\n",
       "  9993.399999999976,\n",
       "  9993.299999999976,\n",
       "  9993.199999999975,\n",
       "  9993.099999999975,\n",
       "  9992.999999999975,\n",
       "  9992.899999999974,\n",
       "  9992.799999999974,\n",
       "  9992.699999999973,\n",
       "  9992.599999999973,\n",
       "  9992.499999999973,\n",
       "  9992.399999999972,\n",
       "  9992.299999999972,\n",
       "  9992.199999999972,\n",
       "  9992.099999999971,\n",
       "  9991.99999999997,\n",
       "  9991.89999999997,\n",
       "  9991.79999999997,\n",
       "  9991.69999999997,\n",
       "  9991.59999999997,\n",
       "  9991.499999999969,\n",
       "  9991.399999999969,\n",
       "  9991.299999999968,\n",
       "  9991.199999999968,\n",
       "  9991.099999999968,\n",
       "  9990.999999999967,\n",
       "  9990.899999999967,\n",
       "  9990.799999999967,\n",
       "  9990.699999999966,\n",
       "  9990.599999999966,\n",
       "  9990.499999999965,\n",
       "  9990.399999999965,\n",
       "  9990.299999999965,\n",
       "  9990.199999999964,\n",
       "  9990.099999999964,\n",
       "  9989.999999999964,\n",
       "  9989.899999999963,\n",
       "  9989.799999999963,\n",
       "  9989.699999999963,\n",
       "  9989.599999999962,\n",
       "  9989.499999999962,\n",
       "  9989.399999999961,\n",
       "  9989.299999999961,\n",
       "  9989.19999999996,\n",
       "  9989.09999999996,\n",
       "  9988.99999999996,\n",
       "  9988.89999999996,\n",
       "  9988.79999999996,\n",
       "  9988.699999999959,\n",
       "  9988.599999999959,\n",
       "  9988.499999999958,\n",
       "  9988.399999999958,\n",
       "  9988.299999999957,\n",
       "  9988.199999999957,\n",
       "  9988.099999999957,\n",
       "  9987.999999999956,\n",
       "  9987.899999999956,\n",
       "  9987.799999999956,\n",
       "  9987.699999999955,\n",
       "  9987.599999999955,\n",
       "  9987.499999999955,\n",
       "  9987.399999999954,\n",
       "  9987.299999999954,\n",
       "  9987.199999999953,\n",
       "  9987.099999999953,\n",
       "  9986.999999999953,\n",
       "  9986.899999999952,\n",
       "  9986.799999999952,\n",
       "  9986.699999999952,\n",
       "  9986.599999999951,\n",
       "  9986.49999999995,\n",
       "  9986.39999999995,\n",
       "  9986.29999999995,\n",
       "  9986.19999999995,\n",
       "  9986.09999999995,\n",
       "  9985.999999999949,\n",
       "  9985.899999999949,\n",
       "  9985.799999999948,\n",
       "  9985.699999999948,\n",
       "  9985.599999999948,\n",
       "  9985.499999999947,\n",
       "  9985.399999999947,\n",
       "  9985.299999999947,\n",
       "  9985.199999999946,\n",
       "  9985.099999999946,\n",
       "  9984.999999999945,\n",
       "  9984.899999999945,\n",
       "  9984.799999999945,\n",
       "  9984.699999999944,\n",
       "  9984.599999999944,\n",
       "  9984.499999999944,\n",
       "  9984.399999999943,\n",
       "  9984.299999999943,\n",
       "  9984.199999999943,\n",
       "  9984.099999999942,\n",
       "  9983.999999999942,\n",
       "  9983.899999999941,\n",
       "  9983.799999999941,\n",
       "  9983.69999999994,\n",
       "  9983.59999999994,\n",
       "  9983.49999999994,\n",
       "  9983.39999999994,\n",
       "  9983.29999999994,\n",
       "  9983.199999999939,\n",
       "  9983.099999999939,\n",
       "  9982.999999999938,\n",
       "  9982.899999999938,\n",
       "  9982.799999999937,\n",
       "  9982.699999999937])"
      ]
     },
     "execution_count": 4,
     "metadata": {},
     "output_type": "execute_result"
    }
   ],
   "source": [
    "\n",
    "\n",
    "# env_testing.py \n",
    "# version 0.2 : initial development \n",
    "\n",
    "env_test = Environment((1200, 800))\n",
    "\n",
    "#target_list = env_test.generate_target_list(10) # generate a batch of targets\n",
    "\n",
    "# 4 fixed sensors at the intersection\n",
    "#sensor_list = [(650,450, 90), (550,450, 90), (550,350, 90), (650,350, 90)]\n",
    "sensor_list = [(650,450, 90)] # bottom right 1x1 \n",
    "#sensor_list = [(650,450, 90), (550,350, 90)] # bottom right & top left 1x1 \n",
    "# create the environment\n",
    "target_1, sensor_1, buildings =env_test.create_env(0, # number of targets \n",
    "                                                   sensor_list, # list of sensor positions\n",
    "                                                   1, # number of vertical lanes\n",
    "                                                   1) # number of horizontal lanes\n",
    "\n",
    "# run the simulation\n",
    "env_test.run_env(target_1, sensor_1, buildings)\n",
    "\n",
    "env_test.env_stats()\n"
   ]
  },
  {
   "cell_type": "code",
   "execution_count": 5,
   "metadata": {},
   "outputs": [
    {
     "name": "stdout",
     "output_type": "stream",
     "text": [
      "The unique targets tracked:  []\n",
      "The number of unique targets tracked:  -1\n",
      "The total number of targets generated:  27\n"
     ]
    },
    {
     "data": {
      "image/png": "[encoded data removed]",
      "text/plain": [
       "<Figure size 1000x500 with 2 Axes>"
      ]
     },
     "metadata": {},
     "output_type": "display_data"
    }
   ],
   "source": [
    "env_test.env_stats(plot=True);"
   ]
  },
  {
   "cell_type": "code",
   "execution_count": 5,
   "metadata": {},
   "outputs": [
    {
     "data": {
      "text/plain": [
       "60"
      ]
     },
     "execution_count": 5,
     "metadata": {},
     "output_type": "execute_result"
    }
   ],
   "source": [
    "len(test_target)"
   ]
  },
  {
   "cell_type": "code",
   "execution_count": 7,
   "metadata": {},
   "outputs": [
    {
     "name": "stdout",
     "output_type": "stream",
     "text": [
      "The unique targets tracked:  [  1.   2.   6.   7.  10.  11.  13.  15.  16.  17.  18.  21.  23.  26.\n",
      "  33.  35.  36.  40.  42.  43.  44.  45.  46.  49.  54.  55.  56.  62.\n",
      "  64.  65.  66.  67.  70.  71.  74.  75.  78.  81.  83.  84.  85.  86.\n",
      "  87.  92.  93.  96.  97.  99. 100. 102. 104. 105. 106. 108.]\n",
      "The number of unique targets tracked:  54\n"
     ]
    },
    {
     "data": {
      "image/png": "[encoded data removed]",
      "text/plain": [
       "<Figure size 1000x700 with 2 Axes>"
      ]
     },
     "metadata": {},
     "output_type": "display_data"
    }
   ],
   "source": [
    "plot = True\n",
    "# equalize the array sizes for processing\n",
    "track_temp = np.zeros([len(env_test.tracked),len(max(env_test.tracked,key = lambda x: len(x)))])\n",
    "\n",
    "for i,j in enumerate(env_test.tracked):\n",
    "    track_temp[i][0:len(j)] = j\n",
    "\n",
    "# show the number of targets tracked and their IDs\n",
    "print('The unique targets tracked: ',np.unique(track_temp)[1:]) # excludes the zero used for padding the arrays.\n",
    "print('The number of unique targets tracked: ', len(np.unique(track_temp))-1) # -1 so we dont count the zero\n",
    "\n",
    "if plot:\n",
    "\n",
    "    fig, (ax1, ax2) = plt.subplots(2, figsize=(10,7))\n",
    "    #fig.suptitle('Vertically stacked subplots')\n",
    "    ax1.plot(np.count_nonzero(track_temp, axis=1))\n",
    "    ax1.set_title('Targets Tracked')\n",
    "    ax2.plot(env_test.energy)\n",
    "    ax2.set_title('Total Energy Available')\n"
   ]
  },
  {
   "cell_type": "code",
   "execution_count": 40,
   "metadata": {},
   "outputs": [
    {
     "ename": "NameError",
     "evalue": "name 'region_map' is not defined",
     "output_type": "error",
     "traceback": [
      "\u001b[1;31m---------------------------------------------------------------------------\u001b[0m",
      "\u001b[1;31mNameError\u001b[0m                                 Traceback (most recent call last)",
      "Cell \u001b[1;32mIn[40], line 1\u001b[0m\n\u001b[1;32m----> 1\u001b[0m np\u001b[39m.\u001b[39mnonzero(region_map)\n",
      "\u001b[1;31mNameError\u001b[0m: name 'region_map' is not defined"
     ]
    }
   ],
   "source": [
    "np.nonzero(region_map)"
   ]
  },
  {
   "cell_type": "code",
   "execution_count": 10,
   "metadata": {},
   "outputs": [
    {
     "data": {
      "text/plain": [
       "1.0"
      ]
     },
     "execution_count": 10,
     "metadata": {},
     "output_type": "execute_result"
    }
   ],
   "source": [
    "region_map[75,22]"
   ]
  },
  {
   "cell_type": "code",
   "execution_count": null,
   "metadata": {},
   "outputs": [],
   "source": [
    "model = Sequential([\n",
    "    Conv2D\n",
    "])"
   ]
  },
  {
   "cell_type": "code",
   "execution_count": 5,
   "metadata": {},
   "outputs": [
    {
     "data": {
      "text/plain": [
       "[4, 6, 2, 4]"
      ]
     },
     "execution_count": 5,
     "metadata": {},
     "output_type": "execute_result"
    }
   ],
   "source": [
    "some_list =[4,6,2,4]\n",
    "some_list"
   ]
  },
  {
   "cell_type": "code",
   "execution_count": 6,
   "metadata": {},
   "outputs": [
    {
     "data": {
      "text/plain": [
       "1"
      ]
     },
     "execution_count": 6,
     "metadata": {},
     "output_type": "execute_result"
    }
   ],
   "source": [
    "np.argmax(some_list)"
   ]
  },
  {
   "cell_type": "code",
   "execution_count": 2,
   "metadata": {},
   "outputs": [
    {
     "data": {
      "text/plain": [
       "4"
      ]
     },
     "execution_count": 2,
     "metadata": {},
     "output_type": "execute_result"
    }
   ],
   "source": [
    "some_list.pop()"
   ]
  },
  {
   "cell_type": "code",
   "execution_count": 3,
   "metadata": {},
   "outputs": [
    {
     "data": {
      "text/plain": [
       "[4, 6, 2]"
      ]
     },
     "execution_count": 3,
     "metadata": {},
     "output_type": "execute_result"
    }
   ],
   "source": [
    "some_list"
   ]
  },
  {
   "cell_type": "code",
   "execution_count": 6,
   "metadata": {},
   "outputs": [
    {
     "data": {
      "text/plain": [
       "1"
      ]
     },
     "execution_count": 6,
     "metadata": {},
     "output_type": "execute_result"
    }
   ],
   "source": [
    "some_list.index(6)"
   ]
  },
  {
   "cell_type": "code",
   "execution_count": 7,
   "metadata": {},
   "outputs": [
    {
     "data": {
      "text/plain": [
       "[4, 2, 4]"
      ]
     },
     "execution_count": 7,
     "metadata": {},
     "output_type": "execute_result"
    }
   ],
   "source": [
    "some_list.pop(1)\n",
    "some_list"
   ]
  },
  {
   "cell_type": "code",
   "execution_count": 4,
   "metadata": {},
   "outputs": [
    {
     "data": {
      "text/plain": [
       "60"
      ]
     },
     "execution_count": 4,
     "metadata": {},
     "output_type": "execute_result"
    }
   ],
   "source": [
    "len(test_target)"
   ]
  },
  {
   "cell_type": "code",
   "execution_count": 9,
   "metadata": {},
   "outputs": [
    {
     "data": {
      "text/plain": [
       "1"
      ]
     },
     "execution_count": 9,
     "metadata": {},
     "output_type": "execute_result"
    }
   ],
   "source": [
    "1 % 2 "
   ]
  },
  {
   "cell_type": "code",
   "execution_count": 1,
   "metadata": {},
   "outputs": [],
   "source": [
    "test_dic = {(408, 425):'right'}"
   ]
  },
  {
   "cell_type": "code",
   "execution_count": 6,
   "metadata": {},
   "outputs": [
    {
     "data": {
      "text/plain": [
       "'right'"
      ]
     },
     "execution_count": 6,
     "metadata": {},
     "output_type": "execute_result"
    }
   ],
   "source": [
    "test_dic.get((408,425))"
   ]
  },
  {
   "cell_type": "code",
   "execution_count": 8,
   "metadata": {},
   "outputs": [],
   "source": [
    "test_dic[(410,425)]='right'"
   ]
  },
  {
   "cell_type": "code",
   "execution_count": 9,
   "metadata": {},
   "outputs": [
    {
     "data": {
      "text/plain": [
       "{(408, 425): 'right', (410, 425): 'right'}"
      ]
     },
     "execution_count": 9,
     "metadata": {},
     "output_type": "execute_result"
    }
   ],
   "source": [
    "test_dic"
   ]
  },
  {
   "cell_type": "code",
   "execution_count": 11,
   "metadata": {},
   "outputs": [],
   "source": [
    "test_set = set()"
   ]
  },
  {
   "cell_type": "code",
   "execution_count": 17,
   "metadata": {},
   "outputs": [],
   "source": [
    "test_set.add(2)"
   ]
  },
  {
   "cell_type": "code",
   "execution_count": 34,
   "metadata": {},
   "outputs": [
    {
     "data": {
      "text/plain": [
       "1"
      ]
     },
     "execution_count": 34,
     "metadata": {},
     "output_type": "execute_result"
    }
   ],
   "source": [
    "random.randint(0,2)"
   ]
  },
  {
   "cell_type": "code",
   "execution_count": 39,
   "metadata": {},
   "outputs": [
    {
     "data": {
      "text/plain": [
       "11"
      ]
     },
     "execution_count": 39,
     "metadata": {},
     "output_type": "execute_result"
    }
   ],
   "source": [
    "333//30 # int division technically division with the math.floor function"
   ]
  },
  {
   "cell_type": "code",
   "execution_count": 41,
   "metadata": {},
   "outputs": [],
   "source": [
    "region_map = np.zeros((100,100)) "
   ]
  },
  {
   "cell_type": "code",
   "execution_count": 42,
   "metadata": {},
   "outputs": [
    {
     "data": {
      "text/plain": [
       "(100, 100, 100, 100)"
      ]
     },
     "execution_count": 42,
     "metadata": {},
     "output_type": "execute_result"
    }
   ],
   "source": [
    "(100,100)*2"
   ]
  }
 ],
 "metadata": {
  "kernelspec": {
   "display_name": "dream",
   "language": "python",
   "name": "python3"
  },
  "language_info": {
   "codemirror_mode": {
    "name": "ipython",
    "version": 3
   },
   "file_extension": ".py",
   "mimetype": "text/x-python",
   "name": "python",
   "nbconvert_exporter": "python",
   "pygments_lexer": "ipython3",
   "version": "3.11.4"
  },
  "orig_nbformat": 4
 },
 "nbformat": 4,
 "nbformat_minor": 2
}
